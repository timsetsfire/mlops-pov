{
 "cells": [
  {
   "cell_type": "markdown",
   "metadata": {},
   "source": [
    "# Fit the Model"
   ]
  },
  {
   "cell_type": "code",
   "execution_count": null,
   "metadata": {},
   "outputs": [],
   "source": [
    "%%sh\n",
    "drum fit --code-dir ./model \\\n",
    "--input data/10K_Lending_Club_Loans_utf-8.csv \\\n",
    "--output ./model \\\n",
    "--target-type binary \\\n",
    "--target is_bad \\\n",
    "--docker env \n",
    "--verbose\n",
    "--logging-level debug"
   ]
  },
  {
   "cell_type": "markdown",
   "metadata": {},
   "source": [
    "# Testing the model"
   ]
  },
  {
   "cell_type": "markdown",
   "metadata": {},
   "source": [
    "## Performance Testing"
   ]
  },
  {
   "cell_type": "code",
   "execution_count": null,
   "metadata": {},
   "outputs": [],
   "source": [
    "%%sh\n",
    "drum perf-test \\\n",
    "--code-dir ./model \\\n",
    "--input \"data/10K_LC_short.csv\" \\\n",
    "--target-type binary \\\n",
    "--positive-class-label 1 \\\n",
    "--negative-class-label 0 \\\n",
    "--docker env \\\n",
    "--verbose"
   ]
  },
  {
   "cell_type": "markdown",
   "metadata": {},
   "source": [
    "## Validation"
   ]
  },
  {
   "cell_type": "code",
   "execution_count": null,
   "metadata": {},
   "outputs": [],
   "source": [
    "%%sh\n",
    "drum validation \\\n",
    "--code-dir ./model \\\n",
    "--input \"data/10K_LC_short.csv\" \\\n",
    "--target-type binary \\\n",
    "--positive-class-label 1 \\\n",
    "--negative-class-label 0 \\\n",
    "--docker env > validation.log"
   ]
  },
  {
   "cell_type": "code",
   "execution_count": null,
   "metadata": {},
   "outputs": [],
   "source": [
    "! tail -n 30 validation.log"
   ]
  },
  {
   "cell_type": "markdown",
   "metadata": {},
   "source": [
    "## Batch Scoring"
   ]
  },
  {
   "cell_type": "code",
   "execution_count": null,
   "metadata": {},
   "outputs": [],
   "source": [
    "%%sh\n",
    "drum score \\\n",
    "--code-dir ./model \\\n",
    "--target-type binary \\\n",
    "--positive-class-label pos_class_prediction \\\n",
    "--negative-class-label neg_class_prediction \\\n",
    "--input data/10K_LC_short.csv \\\n",
    "--logging-level info \\\n",
    "--docker env \\\n",
    "--output data/predictions.csv"
   ]
  },
  {
   "cell_type": "code",
   "execution_count": null,
   "metadata": {},
   "outputs": [],
   "source": [
    "!head -n 5 data/predictions.csv"
   ]
  },
  {
   "cell_type": "markdown",
   "metadata": {},
   "source": [
    "## Batch Scoring Unstructured Model\n",
    "\n",
    "Returns Predictions and SHAP Values"
   ]
  },
  {
   "cell_type": "code",
   "execution_count": null,
   "metadata": {},
   "outputs": [],
   "source": [
    "%%sh\n",
    "drum score \\\n",
    "--code-dir ./model \\\n",
    "--input \"data/10K_LC_short.csv\" \\\n",
    "--target-type unstructured \\\n",
    "--content-type application/text \\\n",
    "--docker env \\\n",
    "--verbose --output data/predictions.json"
   ]
  },
  {
   "cell_type": "code",
   "execution_count": null,
   "metadata": {},
   "outputs": [],
   "source": [
    "import json\n",
    "import pprint\n",
    "d = json.load(open(\"data/predictions.json\", \"rb\"))\n",
    "pprint.pprint(d[\"data\"][0])"
   ]
  },
  {
   "cell_type": "markdown",
   "metadata": {},
   "source": [
    "## Serving Model"
   ]
  },
  {
   "cell_type": "code",
   "execution_count": null,
   "metadata": {},
   "outputs": [],
   "source": [
    "import subprocess\n",
    "import requests\n",
    "import time"
   ]
  },
  {
   "cell_type": "code",
   "execution_count": null,
   "metadata": {},
   "outputs": [],
   "source": [
    "run_inference_server = [\n",
    "    \"drum\", \"server\",\n",
    "    \"--code-dir\",\"./model\", \n",
    "    \"--address\", \"0.0.0.0:6789\", \n",
    "    \"--show-perf\",\n",
    "    \"--target-type\", \"binary\",\n",
    "    \"--logging-level\", \"info\",\n",
    "    \"--show-stacktrace\",\n",
    "    \"--verbose\", \n",
    "    \"--docker\", \"env\"\n",
    "]\n",
    "inference_server = subprocess.Popen(run_inference_server, stdout=subprocess.PIPE)"
   ]
  },
  {
   "cell_type": "code",
   "execution_count": null,
   "metadata": {},
   "outputs": [],
   "source": [
    "## snoozing before pinging the server to give it time to actually start\n",
    "time.sleep(5)\n",
    "print('check status')\n",
    "requests.request(\"GET\", \"http://0.0.0.0:6789/\").content"
   ]
  },
  {
   "cell_type": "code",
   "execution_count": null,
   "metadata": {},
   "outputs": [],
   "source": [
    "## shutdown\n",
    "requests.request(\"POST\", \"http://0.0.0.0:6789/shutdown/\").content"
   ]
  },
  {
   "cell_type": "code",
   "execution_count": null,
   "metadata": {},
   "outputs": [],
   "source": [
    "inference_server.terminate()\n",
    "inference_server.stdout.readlines()"
   ]
  },
  {
   "cell_type": "markdown",
   "metadata": {},
   "source": [
    "## Push Artifacts and Environment to DataRobot"
   ]
  },
  {
   "cell_type": "markdown",
   "metadata": {},
   "source": [
    "Making a copy of the model folder"
   ]
  },
  {
   "cell_type": "code",
   "execution_count": 15,
   "metadata": {},
   "outputs": [],
   "source": [
    "%%sh\n",
    "rm -R ./model-c && rm -R ./model-ext\n",
    "cp -R ./model ./model-c\n",
    "cp -R ./model ./model-ext"
   ]
  },
  {
   "cell_type": "code",
   "execution_count": 16,
   "metadata": {},
   "outputs": [
    {
     "name": "stdout",
     "output_type": "stream",
     "text": [
      "Namespace(env_dir='./env', logging_level='INFO', max_wait=600, model_dir='./model-c', update_env=False)\n",
      "__main__ - INFO - 2021-01-07 20:28:48,172 - Namespace(env_dir='./env', logging_level='INFO', max_wait=600, model_dir='./model-c', update_env=False)\n",
      "__main__ - INFO - 2021-01-07 20:28:48,597 - load model config\n",
      "__main__ - INFO - 2021-01-07 20:28:48,604 - {'description': None, 'language': 'Python', 'majorVersion': True, 'name': 'lgbm-classifier', 'negativeClassLabel': 0, 'positiveClassLabel': 1, 'predictionThreshold': 0.17, 'targetName': 'is_bad', 'targetType': 'binary', 'testData': '/Users/timothy.whittaker/Desktop/git/ford-mlops/data/10K_LC_short.csv', 'trainingData': '/Users/timothy.whittaker/Desktop/git/ford-mlops/data/10K_Lending_Club_Loans_utf-8.csv', 'type': 'inference', 'versionId': None, 'environmentID': '5ff79aa56161d5e27deb4628', 'environmentVersionID': '5ff79aa6e85ab3dbce50543b'}\n",
      "__main__ - INFO - 2021-01-07 20:28:48,604 - create new inference model\n",
      "__main__ - INFO - 2021-01-07 20:28:49,007 - uploading training data to ai catalog\n",
      "__main__ - INFO - 2021-01-07 20:29:37,190 - assigning training data to custom model\n",
      "__main__ - INFO - 2021-01-07 20:30:56,595 - creating a new model version\n",
      "__main__ - INFO - 2021-01-07 20:31:03,559 - update model metadata yaml\n",
      "__main__ - INFO - 2021-01-07 20:31:03,559 - {'description': None, 'language': 'Python', 'majorVersion': True, 'name': 'lgbm-classifier', 'negativeClassLabel': 0, 'positiveClassLabel': 1, 'predictionThreshold': 0.17, 'targetName': 'is_bad', 'targetType': 'binary', 'testData': '/Users/timothy.whittaker/Desktop/git/ford-mlops/data/10K_LC_short.csv', 'trainingData': '/Users/timothy.whittaker/Desktop/git/ford-mlops/data/10K_Lending_Club_Loans_utf-8.csv', 'type': 'inference', 'versionId': None, 'environmentID': '5ff79aa56161d5e27deb4628', 'environmentVersionID': '5ff79aa6e85ab3dbce50543b', 'datasets': {'trainingDataCatalogId': '5ff7b5517d4c9428159143b5'}, 'id': '5ff7b55015553bd185505431', 'modelVersionID': '5ff7b5d13a24126a7c857223'}\n"
     ]
    }
   ],
   "source": [
    "!python ./utils/push.py --env-dir ./env --model-dir ./model-c --logging-level INFO --max-wait 600 --update-env False"
   ]
  },
  {
   "cell_type": "markdown",
   "metadata": {},
   "source": [
    "# Test Model in DataRobot"
   ]
  },
  {
   "cell_type": "code",
   "execution_count": 17,
   "metadata": {},
   "outputs": [
    {
     "name": "stdout",
     "output_type": "stream",
     "text": [
      "Namespace(logging_level='INFO', max_wait=600, model_dir='./model-c')\n",
      "__main__ - INFO - 2021-01-07 20:31:04,649 - Namespace(logging_level='INFO', max_wait=600, model_dir='./model-c')\n",
      "__main__ - INFO - 2021-01-07 20:31:04,649 - loading model config\n",
      "__main__ - INFO - 2021-01-07 20:31:04,657 - loading dataset to ai catalog\n",
      "__main__ - INFO - 2021-01-07 20:31:41,860 - starting custom model test\n",
      "__main__ - INFO - 2021-01-07 20:36:16,690 - test complete\n",
      "__main__ - WARNING - 2021-01-07 20:36:16,690 - warning 😱\n",
      "__main__ - WARNING - 2021-01-07 20:36:16,690 - Test: error_check\n",
      "__main__ - WARNING - 2021-01-07 20:36:16,690 - Status: succeeded\n",
      "__main__ - WARNING - 2021-01-07 20:36:16,690 - Message: \n",
      "__main__ - WARNING - 2021-01-07 20:36:16,690 - Test: null_value_imputation\n",
      "__main__ - WARNING - 2021-01-07 20:36:16,690 - Status: warning\n",
      "__main__ - WARNING - 2021-01-07 20:36:16,690 - Message: Model cannot impute null values for the following columns:\n",
      "int_rate, zip_code, addr_state\n",
      "__main__ - WARNING - 2021-01-07 20:36:16,690 - Test: long_running_service\n",
      "__main__ - WARNING - 2021-01-07 20:36:16,691 - Status: succeeded\n",
      "__main__ - WARNING - 2021-01-07 20:36:16,691 - Message: \n",
      "__main__ - WARNING - 2021-01-07 20:36:16,691 - Test: side_effects\n",
      "__main__ - WARNING - 2021-01-07 20:36:16,691 - Status: succeeded\n",
      "__main__ - WARNING - 2021-01-07 20:36:16,691 - Message: \n"
     ]
    }
   ],
   "source": [
    "!python ./utils/test.py --model-dir ./model-c --logging-level INFO --max-wait 600"
   ]
  },
  {
   "cell_type": "markdown",
   "metadata": {},
   "source": [
    "# Deploy Model to DataRobot"
   ]
  },
  {
   "cell_type": "code",
   "execution_count": 19,
   "metadata": {},
   "outputs": [
    {
     "name": "stdout",
     "output_type": "stream",
     "text": [
      "Namespace(external=False, logging_level='INFO', max_wait=600, mlops_api_token='L-KEWy2boF5520IYONK096R-XzHOuVsk', mlops_endpoint='https://app.datarobot.com', model_dir='./model-c')\n",
      "__main__ - INFO - 2021-01-07 20:45:07,144 - Namespace(external=False, logging_level='INFO', max_wait=600, mlops_api_token='L-KEWy2boF5520IYONK096R-XzHOuVsk', mlops_endpoint='https://app.datarobot.com', model_dir='./model-c')\n",
      "__main__ - INFO - 2021-01-07 20:45:07,144 - deploying custom inference model\n",
      "__main__ - INFO - 2021-01-07 20:45:07,469 - connected https://app.datarobot.com/api/v2\n",
      "__main__ - INFO - 2021-01-07 20:45:07,470 - load model config for custom model deployment\n",
      "__main__ - INFO - 2021-01-07 20:45:07,477 - {'datasets': {'testDatasetID': '5ff7b5d839626b4f255052a5',\n",
      "              'trainingDataCatalogId': '5ff7b5517d4c9428159143b5'},\n",
      " 'description': None,\n",
      " 'environmentID': '5ff79aa56161d5e27deb4628',\n",
      " 'environmentVersionID': '5ff79aa6e85ab3dbce50543b',\n",
      " 'id': '5ff7b55015553bd185505431',\n",
      " 'language': 'Python',\n",
      " 'majorVersion': True,\n",
      " 'modelVersionID': '5ff7b5d13a24126a7c857223',\n",
      " 'name': 'lgbm-classifier',\n",
      " 'negativeClassLabel': 0,\n",
      " 'positiveClassLabel': 1,\n",
      " 'predictionThreshold': 0.17,\n",
      " 'targetName': 'is_bad',\n",
      " 'targetType': 'binary',\n",
      " 'testData': '/Users/timothy.whittaker/Desktop/git/ford-mlops/data/10K_LC_short.csv',\n",
      " 'trainingData': '/Users/timothy.whittaker/Desktop/git/ford-mlops/data/10K_Lending_Club_Loans_utf-8.csv',\n",
      " 'type': 'inference',\n",
      " 'versionId': None}\n",
      "__main__ - INFO - 2021-01-07 20:48:57,266 - enabling data drift tracking\n",
      "__main__ - INFO - 2021-01-07 20:49:20,243 - update model metadata yaml\n",
      "__main__ - INFO - 2021-01-07 20:49:20,243 - {'datasets': {'testDatasetID': '5ff7b5d839626b4f255052a5', 'trainingDataCatalogId': '5ff7b5517d4c9428159143b5'}, 'description': None, 'environmentID': '5ff79aa56161d5e27deb4628', 'environmentVersionID': '5ff79aa6e85ab3dbce50543b', 'id': '5ff7b55015553bd185505431', 'language': 'Python', 'majorVersion': True, 'modelVersionID': '5ff7b5d13a24126a7c857223', 'name': 'lgbm-classifier', 'negativeClassLabel': 0, 'positiveClassLabel': 1, 'predictionThreshold': 0.17, 'targetName': 'is_bad', 'targetType': 'binary', 'testData': '/Users/timothy.whittaker/Desktop/git/ford-mlops/data/10K_LC_short.csv', 'trainingData': '/Users/timothy.whittaker/Desktop/git/ford-mlops/data/10K_Lending_Club_Loans_utf-8.csv', 'type': 'inference', 'versionId': None, 'deploymentID': '5ff7b924f2aa019f7c6b5a68', 'deploymentType': 'custom inference'}\n",
      "__main__ - INFO - 2021-01-07 20:49:20,243 - initializing prediction explanations for deployment\n"
     ]
    }
   ],
   "source": [
    "!python ./utils/deploy.py --model-dir ./model-c --external False"
   ]
  },
  {
   "cell_type": "markdown",
   "metadata": {},
   "source": [
    "# Deploy Model outside of DataRobot with DR Tracking Agents"
   ]
  },
  {
   "cell_type": "code",
   "execution_count": null,
   "metadata": {},
   "outputs": [],
   "source": [
    "# !python ./utils/deploy.py --model-dir ./model-ext --external True"
   ]
  }
 ],
 "metadata": {
  "kernelspec": {
   "display_name": "Python 3",
   "language": "python",
   "name": "python3"
  },
  "language_info": {
   "codemirror_mode": {
    "name": "ipython",
    "version": 3
   },
   "file_extension": ".py",
   "mimetype": "text/x-python",
   "name": "python",
   "nbconvert_exporter": "python",
   "pygments_lexer": "ipython3",
   "version": "3.8.6"
  }
 },
 "nbformat": 4,
 "nbformat_minor": 4
}
